{
 "cells": [
  {
   "cell_type": "code",
   "execution_count": null,
   "id": "978a774d",
   "metadata": {},
   "outputs": [],
   "source": []
  },
  {
   "cell_type": "code",
   "execution_count": 1,
   "id": "e4823623",
   "metadata": {},
   "outputs": [
    {
     "name": "stdout",
     "output_type": "stream",
     "text": [
      "DIt Me m\n"
     ]
    }
   ],
   "source": [
    "print(f\"DIt Me m\")"
   ]
  },
  {
   "cell_type": "code",
   "execution_count": 2,
   "id": "ae30cfb0",
   "metadata": {},
   "outputs": [
    {
     "name": "stdout",
     "output_type": "stream",
     "text": [
      "The sum of 2 and 6 is 8\n"
     ]
    }
   ],
   "source": [
    "x = 2\n",
    "y = 6\n",
    "print(f\"The sum of {x} and {y} is {x + y}\")"
   ]
  },
  {
   "cell_type": "code",
   "execution_count": 1,
   "id": "9e0ac047",
   "metadata": {},
   "outputs": [
    {
     "name": "stdout",
     "output_type": "stream",
     "text": [
      "Hello, World!\n"
     ]
    }
   ],
   "source": [
    "print(\"Hello, World!\")"
   ]
  },
  {
   "cell_type": "code",
   "execution_count": null,
   "id": "deb4fbe4",
   "metadata": {},
   "outputs": [],
   "source": []
  }
 ],
 "metadata": {
  "kernelspec": {
   "display_name": "Python 3",
   "language": "python",
   "name": "python3"
  },
  "language_info": {
   "codemirror_mode": {
    "name": "ipython",
    "version": 3
   },
   "file_extension": ".py",
   "mimetype": "text/x-python",
   "name": "python",
   "nbconvert_exporter": "python",
   "pygments_lexer": "ipython3",
   "version": "3.13.5"
  }
 },
 "nbformat": 4,
 "nbformat_minor": 5
}
