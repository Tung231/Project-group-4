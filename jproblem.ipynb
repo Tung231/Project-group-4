{
 "cells": [
  {
   "cell_type": "code",
   "execution_count": 4,
   "id": "7ebb9ac4",
   "metadata": {},
   "outputs": [
    {
     "name": "stdout",
     "output_type": "stream",
     "text": [
      "[[0, -1, -1, -1, 0], [-1, 0, -1, 0, 0]]\n",
      "[[1, 1, 3, 0]]\n"
     ]
    },
    {
     "ename": "IndexError",
     "evalue": "list index out of range",
     "output_type": "error",
     "traceback": [
      "\u001b[1;31m---------------------------------------------------------------------------\u001b[0m",
      "\u001b[1;31mIndexError\u001b[0m                                Traceback (most recent call last)",
      "Cell \u001b[1;32mIn[4], line 23\u001b[0m\n\u001b[0;32m     21\u001b[0m Q\u001b[38;5;241m.\u001b[39mappend(list1)\n\u001b[0;32m     22\u001b[0m \u001b[38;5;28mprint\u001b[39m(Q); index \u001b[38;5;241m=\u001b[39m \u001b[38;5;241m-\u001b[39m\u001b[38;5;241m1\u001b[39m\n\u001b[1;32m---> 23\u001b[0m \u001b[38;5;28;01mwhile\u001b[39;00m (\u001b[43mvisited\u001b[49m\u001b[43m[\u001b[49m\u001b[43mi1\u001b[49m\u001b[43m]\u001b[49m\u001b[43m[\u001b[49m\u001b[43mj1\u001b[49m\u001b[43m]\u001b[49m \u001b[38;5;241m==\u001b[39m \u001b[38;5;28;01mFalse\u001b[39;00m) \u001b[38;5;129;01mand\u001b[39;00m (index \u001b[38;5;241m<\u001b[39m\u001b[38;5;241m=\u001b[39m \u001b[38;5;28mlen\u001b[39m(Q)\u001b[38;5;241m-\u001b[39m\u001b[38;5;241m1\u001b[39m):\n\u001b[0;32m     24\u001b[0m     index \u001b[38;5;241m=\u001b[39m index \u001b[38;5;241m+\u001b[39m \u001b[38;5;241m1\u001b[39m\n\u001b[0;32m     25\u001b[0m     \u001b[38;5;28;01mfor\u001b[39;00m k \u001b[38;5;129;01min\u001b[39;00m \u001b[38;5;28mrange\u001b[39m(\u001b[38;5;241m4\u001b[39m):\n",
      "\u001b[1;31mIndexError\u001b[0m: list index out of range"
     ]
    }
   ],
   "source": [
    " \n",
    "with open(\"D:/DATA/jproblem.txt\",\"r\") as f:\n",
    "    line = list(map(int,f.readline().split()))\n",
    "    m = line[0]; n = line[1]; i0 = line[2]; j0 = line[3]; i1 = line[4]; j1 = line[5];\n",
    "    M = []\n",
    "    for _ in range(m):\n",
    "        line = list(map(int,f.readline().split()))\n",
    "        M.append(line)\n",
    "print(M)\n",
    "# print(m,n,i0,j0,i1,j1)\n",
    "# print(Q)\n",
    "# Khởi tạo:\n",
    "dx = [-1,0,1,0];  dy = [0,1,0,-1]\n",
    "visited = []\n",
    "for _ in range(m):\n",
    "    line = [False for _ in range(n)]\n",
    "    visited.append(line)\n",
    "# print(visited)\n",
    "\n",
    "Q = []\n",
    "list1 = [i0, j0, 3, 0]\n",
    "Q.append(list1)\n",
    "print(Q); index = -1\n",
    "while (visited[i1][j1] == False) and (index <= len(Q)-1):\n",
    "    index = index + 1\n",
    "    for k in range(4):\n",
    "        ii = Q[index][0] + dx[k]; jj = Q[index][1] + dy[k]\n",
    "        if (ii>=0 and ii<m and  jj>=0 and jj<n and visited[ii][jj] == False and Q[index][2] + M[ii][jj]>0):\n",
    "            list2 = [ii,jj,Q[index][2] + M[ii][jj],Q[index][3]+1]\n",
    "            Q.append(list2)\n",
    "            visited[ii][jj] = True\n",
    "            if (ii == i1 and jj== j1):\n",
    "                list3 = list2\n",
    "\n",
    "print(f\"\\n =========Số bước đi là  ==========\\n {list3[3]} \")\n"
   ]
  }
 ],
 "metadata": {
  "kernelspec": {
   "display_name": "Python 3",
   "language": "python",
   "name": "python3"
  },
  "language_info": {
   "codemirror_mode": {
    "name": "ipython",
    "version": 3
   },
   "file_extension": ".py",
   "mimetype": "text/x-python",
   "name": "python",
   "nbconvert_exporter": "python",
   "pygments_lexer": "ipython3",
   "version": "3.11.9"
  }
 },
 "nbformat": 4,
 "nbformat_minor": 5
}
