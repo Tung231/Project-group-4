{
 "cells": [
  {
   "cell_type": "code",
   "execution_count": 24,
   "id": "e958bea6",
   "metadata": {},
   "outputs": [
    {
     "name": "stdout",
     "output_type": "stream",
     "text": [
      "[0, 1, 2, 3, 4, 5, 6, 7, 8, 9, 10]\n",
      "\n",
      " ==== Đường đi ngắn nhất theo số cung là: ==== \n",
      " \n",
      " ==> 0 ==> 9 ==> 3 ==> 4 ==> 5\n"
     ]
    }
   ],
   "source": [
    "# Nhập dữ liệu là đồ thị không trọng số bằng danh sách kề, đỉnh 0==>n-1\n",
    "A = [[1,9,10],\n",
    "     [0,2,9],\n",
    "     [1,3,9],\n",
    "     [2,4,6,7,8,9,10],\n",
    "     [3,5,7],\n",
    "     [5],\n",
    "     [3,8],\n",
    "     [3,4],\n",
    "     [3,6,10],\n",
    "     [0,1,2,3],\n",
    "     [0,3,8]]\n",
    "start = 0; end = 5\n",
    "n = 11\n",
    "visited = [False]*n\n",
    "before = list(range(n))\n",
    "print(before)\n",
    "ds=[]\n",
    "ds.append(start)\n",
    "index = 0\n",
    "visited[start] = False\n",
    "while (visited[end] == False):\n",
    "     for x in (A[ds[index]]):\n",
    "          if (visited[x] == False):\n",
    "               visited[x] = True\n",
    "               before[x] = ds[index]\n",
    "               ds.append(x)\n",
    "     index = index+1\n",
    "\n",
    "way =[]\n",
    "while (end != start):\n",
    "     way.append(end)\n",
    "     end = before[end]\n",
    "way.append(start)\n",
    "s = \"\"\n",
    "print(f\"\\n ==== Đường đi ngắn nhất theo số cung là: ==== \\n \")\n",
    "for x in range(1,len(way)+1):\n",
    "     s = s+ \" ==> \" + str(way[-1*x])\n",
    "\n",
    "print(s)\n",
    "\n",
    "\n",
    "\n",
    "\n",
    "\n",
    "          \n",
    "     \n",
    "\n"
   ]
  },
  {
   "cell_type": "code",
   "execution_count": null,
   "id": "950eac50",
   "metadata": {},
   "outputs": [
    {
     "name": "stdout",
     "output_type": "stream",
     "text": [
      "[[False, False, False, False, False, False, False, False], [False, False, False, False, False, False, False, False], [False, False, False, False, False, False, False, False], [False, False, False, False, False, False, False, False], [False, False, False, False, False, False, False, False], [False, False, False, False, False, False, False, False], [False, False, False, False, False, False, False, False], [False, False, False, False, False, False, False, False]]\n",
      "[(1, 2), (13, 2)]\n"
     ]
    }
   ],
   "source": [
    "n=8\n",
    "ds=[]\n",
    "item1 = tuple([4,1]); item2 = tuple([6,7])\n",
    "ds.append(item1)\n",
    "# ds.append(item2)\n",
    "visited=[]\n",
    "list1 = [False]*n\n",
    "for _ in range(n):\n",
    "    visited.append(list1)\n",
    "visited[0][3] = True\n",
    "visited[2][2] = True\n",
    "visited[2][4] = True\n",
    "visited[3][6] = True\n",
    "visited[5][1] = True\n",
    "visited[5][3] = True\n",
    "visited[6][6] = True\n",
    "index = 0\n",
    "dx=[-1,0,1,0]; dy[0,1,0,-1]\n",
    "while (visited[1][6]==False):\n",
    "    x = ds[index][0];\n",
    "    y = ds[index][1]\n",
    "    for k in range(4):\n",
    "        xx = x + dx[k]\n",
    "        yy = y + dy[k]\n",
    "        #Kiểm tra ô (xx,yy) có thuộc bảng? và đã đến chưa? \n",
    "        if (visited[xx][yy] ==False and xx in range(n) and yy in range(n)):\n",
    "            tup1 = tuple([xx,yy])\n",
    "            ds.append(tup1)\n",
    "            visited[xx][yy] == True\n",
    "            \n",
    "\n",
    "\n",
    "\n"
   ]
  }
 ],
 "metadata": {
  "kernelspec": {
   "display_name": "Python 3",
   "language": "python",
   "name": "python3"
  },
  "language_info": {
   "codemirror_mode": {
    "name": "ipython",
    "version": 3
   },
   "file_extension": ".py",
   "mimetype": "text/x-python",
   "name": "python",
   "nbconvert_exporter": "python",
   "pygments_lexer": "ipython3",
   "version": "3.11.9"
  }
 },
 "nbformat": 4,
 "nbformat_minor": 5
}
