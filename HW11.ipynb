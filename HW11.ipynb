{
 "cells": [
  {
   "cell_type": "markdown",
   "id": "911a5089",
   "metadata": {},
   "source": [
    "Before you turn this problem in, make sure everything runs as expected by **running all cells**\n",
    "\n",
    "The bonus point questions might require some knowledge that has not been introduced in class. You `are not required` to do them, so don’t spend too much time on them.\n",
    "\n",
    "Make sure you :\n",
    "- Fill in your name, student id number and class\n",
    "\n",
    "- Fill any place that says `YOUR CODE HERE` (you will be graded based on this code, any extra cells you code will not be graded)\n"
   ]
  },
  {
   "cell_type": "code",
   "execution_count": null,
   "id": "152f685b",
   "metadata": {},
   "outputs": [],
   "source": [
    "NAME = \"Tran Tung Lam\"\n",
    "STUDENT_ID = \"11245891\"\n",
    "CLASS = \"DSEB 66B\""
   ]
  },
  {
   "cell_type": "markdown",
   "id": "fa64c278",
   "metadata": {},
   "source": [
    "### **Exercise 1: Student Management System**\n",
    "\n",
    "Create a Python program for managing students using Object-Oriented Programming (OOP) principles.  \n",
    "\n",
    "#### **Requirements**\n",
    "\n",
    "1. **Create a `Student` class**\n",
    "   - Have a class variable `total_students` to keep track of the total number of students created.  \n",
    "   - Have **public instance variables:** `name`, `age`, and `roll_number`.  \n",
    "   - Have **protected instance variables:** `_grade` and `_attendance_percentage`.  \n",
    "   - Have a **private instance variable:** `__is_enrolled` (this variable can only be accessed and modified from within the class).  \n",
    "\n",
    "2. **Write the following methods**\n",
    "   - `__init__(self, name, age, roll_number)`: Initialize a student with a name, age, and roll number. Increase the class variable `total_students` by 1 each time a student is created.  \n",
    "   - `set_grade(self, grade)`: Set the grade for the student.  \n",
    "   - `set_attendance(self, percentage)`: Set the attendance percentage for the student.  \n",
    "   - `enroll(self)`: Set the student's enrollment status to `True` (`__is_enrolled = True`).  \n",
    "   - `is_enrolled(self)`: Return the enrollment status of the student.  \n",
    "   - `get_details(self)`: Print out all information about the student (name, age, roll number, grade, attendance percentage, and enrollment status).  \n",
    "\n",
    "3. **Using the `Student` class**\n",
    "   - Create an object from the `Student` class.  \n",
    "   - Set the grade and attendance percentage for that student.  \n",
    "   - Check if the student is enrolled and print the student's information.  \n"
   ]
  },
  {
   "cell_type": "code",
   "execution_count": null,
   "id": "7d07dbd9",
   "metadata": {},
   "outputs": [],
   "source": [
    "#YOUR CODE HERE\n",
    "\n",
    "class Student: \n",
    "\n",
    "    def __init__(self, name, age, roll_number):\n",
    "        self.name = name\n",
    "        self.age = age\n",
    "        self.roll_number = roll_number\n",
    "\n",
    "    "
   ]
  },
  {
   "cell_type": "markdown",
   "id": "1f9bda36",
   "metadata": {},
   "source": [
    "### **Exercise 2: Composition in Object-Oriented Programming**\n",
    "\n",
    "Create two Python classes where an object of the first class is used as an attribute of the second class.  \n",
    "This exercise will demonstrate the concept of **composition** in Object-Oriented Programming.\n",
    "\n",
    "#### **Requirements**\n",
    "\n",
    "1. **Create a `Book` class**\n",
    "   - The `Book` class should have the following attributes:  \n",
    "     `title`, `author`, and `published_year`.  \n",
    "   - Include an `__init__` method to initialize these attributes.  \n",
    "   - Include a method `get_info()` to print out the book's information (title, author, and published year).  \n",
    "\n",
    "2. **Create a `Library` class**\n",
    "   - The `Library` class should have an attribute `book`, which will store an object of the `Book` class.  \n",
    "   - Include an `__init__` method that takes a `Book` object as a parameter and assigns it to the `book` attribute.  \n",
    "   - Include a method `display_book_info()` that calls the `get_info()` method of the `Book` class to display the information of the book stored in the `Library` object.  \n",
    "\n",
    "3. **Usage**\n",
    "   - Create an instance of the `Book` class with a specific title, author, and published year.  \n",
    "   - Create an instance of the `Library` class, passing the previously created `Book` object as a parameter.  \n",
    "   - Call the `display_book_info()` method of the `Library` object to display the book's information.  \n"
   ]
  },
  {
   "cell_type": "code",
   "execution_count": null,
   "id": "53e52a51",
   "metadata": {},
   "outputs": [],
   "source": [
    "#YOUR CODE HERE"
   ]
  },
  {
   "cell_type": "markdown",
   "id": "d33f2865",
   "metadata": {},
   "source": [
    "### **Exercise 3: Inheritance and Method Overriding from the random Library**\n",
    "\n",
    "#### **1. Introduction to Class: `random.Random`**\n",
    "\n",
    "`random.Random` is a class in Python's standard library (`random` module) used to generate random numbers.  \n",
    "This class provides methods to generate random integers, floating-point numbers, and even random strings.\n",
    "\n",
    "#### **2. Requirements: Create Subclass `CustomRandom`**\n",
    "\n",
    "Students are required to create a subclass `CustomRandom` that inherits from the `random.Random` class.\n",
    "\n",
    "- **New Method:**  \n",
    "  `get_custom_random_int(min_val, max_val) -> int`  \n",
    "  **Purpose:**  \n",
    "  This method takes two parameters `min_val` and `max_val` as the minimum and maximum values (inclusive).  \n",
    "  It generates and returns a random integer within the range from `min_val` to `max_val`.\n",
    "\n",
    "- **Method to Override (from Parent Class):**  \n",
    "  `random()`  \n",
    "  **Purpose:**  \n",
    "  In the parent class, this method returns a random float in the range from `0` (inclusive) to `1` (exclusive).  \n",
    "  **Override Requirement:**  \n",
    "  In the `CustomRandom` subclass, students should override this method to return a random integer within the range from `1` to `100` (inclusive).\n",
    "\n",
    "#### **3. Instructions**\n",
    "\n",
    "1. Import the `random` class from Python's standard library.  \n",
    "2. Create the subclass `CustomRandom` that inherits from `random.Random`.  \n",
    "3. Implement the `get_custom_random_int(min_val, max_val)` method to generate a random integer within the specified range.  \n",
    "4. Override the `random()` method from the parent class to generate a random integer within the range from `1` to `100`.  \n"
   ]
  },
  {
   "cell_type": "code",
   "execution_count": null,
   "id": "96d7238c",
   "metadata": {},
   "outputs": [],
   "source": [
    "#YOUR CODE HERE"
   ]
  },
  {
   "cell_type": "markdown",
   "id": "ba92eebe",
   "metadata": {},
   "source": [
    "### **Exercise 4: Polymorphism with Shapes**\n",
    "\n",
    "Demonstrate the concept of **polymorphism** in Object-Oriented Programming (OOP) by creating multiple shape classes that share a common interface for calculating area but have different implementations.\n",
    "\n",
    "#### **Requirements**\n",
    "\n",
    "1. **Create a `Shape` base class**\n",
    "   - The `Shape` class will serve as a parent class for all geometric shapes.  \n",
    "   - Include a method `area(self)` that raises a `NotImplementedError` (to ensure subclasses must implement it).  \n",
    "\n",
    "2. **Create subclasses for different shapes**\n",
    "   - **`Circle` class:**  \n",
    "     - **Attributes:** `radius`  \n",
    "     - **Method:** `area(self)` — return the area of the circle using the formula π × radius².  \n",
    "   - **`Rectangle` class:**  \n",
    "     - **Attributes:** `width`, `height`  \n",
    "     - **Method:** `area(self)` — return the area of the rectangle using the formula width × height.  \n",
    "   - **`Triangle` class:**  \n",
    "     - **Attributes:** `base`, `height`  \n",
    "     - **Method:** `area(self)` — return the area of the triangle using the formula 0.5 × base × height.  \n",
    "\n",
    "3. **Usage**\n",
    "   - Create instances of `Circle`, `Rectangle`, and `Triangle`.  \n",
    "   - Store all shape objects in a list.  \n",
    "   - Use a loop to call the same `area()` method for each object and print their results.  \n",
    "\n",
    "This demonstrates **polymorphism** — the same method name (`area`) produces different results depending on the object type.  \n"
   ]
  },
  {
   "cell_type": "code",
   "execution_count": null,
   "id": "8fe1c47a",
   "metadata": {},
   "outputs": [],
   "source": [
    "#YOUR CODE HERE"
   ]
  },
  {
   "cell_type": "markdown",
   "id": "5caf9f98",
   "metadata": {},
   "source": [
    "### **Exercise 5: Abstraction with Devices**\n",
    "\n",
    "Demonstrate the concept of **abstraction** using Python’s `abc` (Abstract Base Class) module to enforce a design contract across multiple subclasses.\n",
    "\n",
    "#### **Requirements**\n",
    "\n",
    "1. **Create an abstract class `Device`**\n",
    "   - Import the `ABC` and `abstractmethod` classes from Python’s `abc` module.  \n",
    "   - Create a base class `Device(ABC)` that contains:\n",
    "     - An abstract method `turn_on(self)` that **must be implemented** by all subclasses.  \n",
    "     - A regular method `connect_wifi(self)` that prints `\"Connecting to Wi-Fi...\"`.  \n",
    "\n",
    "2. **Create subclasses of `Device`**\n",
    "   - **`Smartphone` class:**  \n",
    "     Implements `turn_on(self)` to print `\"Smartphone is powering up with a touch screen animation...\"`.  \n",
    "   - **`Laptop` class:**  \n",
    "     Implements `turn_on(self)` to print `\"Laptop is booting the operating system...\"`.  \n",
    "\n",
    "3. **Usage**\n",
    "   - Create instances of `Smartphone` and `Laptop`.  \n",
    "   - Call both `turn_on()` and `connect_wifi()` on each object.  \n",
    "   - Attempting to instantiate a subclass of `Device` **without** implementing `turn_on()` should raise a `TypeError`.  \n"
   ]
  },
  {
   "cell_type": "code",
   "execution_count": null,
   "id": "d902690d",
   "metadata": {},
   "outputs": [],
   "source": [
    "#YOUR CODE HERE"
   ]
  },
  {
   "cell_type": "markdown",
   "id": "489f9e37",
   "metadata": {},
   "source": [
    "### **Exercise 6: Smart Home Automation System**\n",
    "\n",
    "Demonstrate the use of multiple Object-Oriented Programming (OOP) principles — including **Abstraction, Inheritance, Composition, Encapsulation, and Polymorphism** — by building a Smart Home system that manages and controls multiple devices.\n",
    "\n",
    "#### **1. Create an abstract base class `Device`**\n",
    "Import the `ABC` and `abstractmethod` classes from Python’s `abc` module.  \n",
    "The `Device` class should represent a general electronic device and include:\n",
    "- A **protected** attribute `_name` to store the device’s name.  \n",
    "- A **private** attribute `__status` to store whether the device is `ON` or `OFF`.  \n",
    "- An **abstract** method `turn_on(self)` that must be implemented by all subclasses.  \n",
    "- An **abstract** method `turn_off(self)` that must be implemented by all subclasses.  \n",
    "- A **private** method `__change_status(self, state)` to update the device’s internal status.  \n",
    "- A **public** method `get_status(self)` that prints the device’s current status (`ON` or `OFF`).  \n",
    "- A **protected helper** method `_set_status(self, state)` that calls the private method to change the status.  \n",
    "\n",
    "#### **2. Create subclasses that inherit from `Device`**\n",
    "Each subclass must implement the required abstract methods, demonstrating **polymorphism** (same methods, different behaviors).\n",
    "\n",
    "- **`Light` class**  \n",
    "  - `turn_on(self)`: Print `\"Light is now ON, brightness set to 80%.\"`  \n",
    "  - `turn_off(self)`: Print `\"Light is now OFF.\"`\n",
    "\n",
    "- **`AirConditioner` class**  \n",
    "  - `turn_on(self)`: Print `\"Air Conditioner is cooling the room to 24°C.\"`  \n",
    "  - `turn_off(self)`: Print `\"Air Conditioner is turned OFF.\"`\n",
    "\n",
    "- **`SecurityCamera` class**  \n",
    "  - `turn_on(self)`: Print `\"Security Camera is recording...\"`  \n",
    "  - `turn_off(self)`: Print `\"Security Camera stopped recording.\"`\n",
    "\n",
    "#### **3. Create a `SmartHub` class to manage devices (Composition)**\n",
    "The `SmartHub` class represents the control center of the Smart Home and demonstrates the **“has-a”** relationship.\n",
    "\n",
    "- **Attributes:**\n",
    "  - `devices`: A list that stores all added device objects.  \n",
    "\n",
    "- **Methods:**\n",
    "  - `add_device(self, device)`: Adds a `Device` object to the hub.  \n",
    "  - `show_all_devices(self)`: Prints the list of all connected devices.  \n",
    "  - `activate_all(self)`: Calls the `turn_on()` method for every device.  \n",
    "  - `deactivate_all(self)`: Calls the `turn_off()` method for every device.  \n",
    "\n",
    "#### **4. Usage**\n",
    "- Create instances of `Light`, `AirConditioner`, and `SecurityCamera`.  \n",
    "- Create a `SmartHub` object and add all the devices to it.  \n",
    "- Call `activate_all()` and `deactivate_all()` to turn all devices `ON` and `OFF`.  \n"
   ]
  },
  {
   "cell_type": "code",
   "execution_count": null,
   "id": "a9e89109",
   "metadata": {},
   "outputs": [],
   "source": [
    "#YOUR CODE HERE"
   ]
  }
 ],
 "metadata": {
  "kernelspec": {
   "display_name": "base",
   "language": "python",
   "name": "python3"
  },
  "language_info": {
   "name": "python",
   "version": "3.12.4"
  }
 },
 "nbformat": 4,
 "nbformat_minor": 5
}
