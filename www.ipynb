{
 "cells": [
  {
   "cell_type": "markdown",
   "id": "f973edf9",
   "metadata": {},
   "source": [
    "*Hi. I'm Mai*"
   ]
  }
 ],
 "metadata": {
  "language_info": {
   "name": "python"
  }
 },
 "nbformat": 4,
 "nbformat_minor": 5
}
