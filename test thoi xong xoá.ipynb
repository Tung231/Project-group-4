{
 "cells": [
  {
   "cell_type": "code",
   "execution_count": null,
   "id": "b8e8442a",
   "metadata": {},
   "outputs": [],
   "source": [
    "class Monster:\n",
    "  # This is a special method (the constructor)\n",
    "  # It's called every time a NEW object is created\n",
    "  def __init__(self, name, hp):\n",
    "    # These are INSTANCE variables, unique to each monster\n",
    "    self.name = name\n",
    "    self.hp = hp\n",
    "    print(f\"A {self.name} has just appeared!\")\n",
    "\n",
    "  # This is an INSTANCE method\n",
    "  def attack(self):\n",
    "    print(f\"{self.name} is attacking!\")"
   ]
  }
 ],
 "metadata": {
  "kernelspec": {
   "display_name": "Python 3",
   "language": "python",
   "name": "python3"
  },
  "language_info": {
   "name": "python",
   "version": "3.13.7"
  }
 },
 "nbformat": 4,
 "nbformat_minor": 5
}
