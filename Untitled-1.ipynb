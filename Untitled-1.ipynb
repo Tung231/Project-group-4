{
 "cells": [
  {
   "cell_type": "code",
   "execution_count": null,
   "id": "3cd578f8",
   "metadata": {},
   "outputs": [],
   "source": [
    "print(\"Ok\")"
   ]
  }
 ],
 "metadata": {
  "language_info": {
   "name": "python"
  }
 },
 "nbformat": 4,
 "nbformat_minor": 5
}
