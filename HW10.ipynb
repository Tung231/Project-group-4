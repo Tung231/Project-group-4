{
 "cells": [
  {
   "cell_type": "markdown",
   "id": "7861071c",
   "metadata": {},
   "source": [
    "Before you turn this problem in, make sure everything runs as expected by **running all cells**\n",
    "\n",
    "The bonus point questions might require some knowledge that has not been introduced in class. You `are not required` to do them, so don’t spend too much time on them.\n",
    "\n",
    "Make sure you :\n",
    "- Fill in your name, student id number and class\n",
    "\n",
    "- Fill any place that says `YOUR CODE HERE` (you will be graded based on this code, any extra cells you code will not be graded)\n"
   ]
  },
  {
   "cell_type": "code",
   "execution_count": null,
   "id": "ecf1d785",
   "metadata": {},
   "outputs": [],
   "source": [
    "NAME = \"DO MINH THANH\"\n",
    "STUDENT_ID = \"11245932\"\n",
    "CLASS = \"DSEB 66B\""
   ]
  },
  {
   "cell_type": "markdown",
   "id": "ab9cc2a0",
   "metadata": {},
   "source": [
    "### **Exercise 1:** Book Management\n",
    "\n",
    "Create a class **`Book`** with the following specifications:\n",
    "\n",
    "- **Attributes:**\n",
    "  - `title` — the title of the book  \n",
    "  - `author` — the author’s name  \n",
    "  - `publish_year` — the year the book was published  \n",
    "\n",
    "- **Methods:**\n",
    "  - A method to **display book information** in a readable format (e.g., title, author, and year).\n"
   ]
  },
  {
   "cell_type": "code",
   "execution_count": 1,
   "id": "d7a2b5a6",
   "metadata": {},
   "outputs": [],
   "source": [
    "class Book:\n",
    "    # YOUR CODE HERE\n",
    "    def __init__(self, title, author, publish_year):\n",
    "        self.title = title\n",
    "        self.author = author\n",
    "        self.publish_year = publish_year\n",
    "    def display_info(self):\n",
    "        print(f\"Title: {self.title}\")\n",
    "        print(f\"Author: {self.author}\")\n",
    "        print(f\"Published Year: {self.publish_year}\")\n",
    "    pass"
   ]
  },
  {
   "cell_type": "code",
   "execution_count": 2,
   "id": "22490bba",
   "metadata": {},
   "outputs": [
    {
     "name": "stdout",
     "output_type": "stream",
     "text": [
      "Title: To Kill a Mockingbird\n",
      "Author: Harper Lee\n",
      "Published Year: 1960\n"
     ]
    }
   ],
   "source": [
    "book1 = Book(\"To Kill a Mockingbird\", \"Harper Lee\", 1960)\n",
    "book1.display_info()"
   ]
  },
  {
   "cell_type": "markdown",
   "id": "54aca1a3",
   "metadata": {},
   "source": [
    "### **Exercise 2:** Student Management\n",
    "\n",
    "Create a class **`Student`** with the following specifications:\n",
    "\n",
    "- **Attributes:**\n",
    "  - `full_name` — the full name of the student  \n",
    "  - `age` — the age of the student  \n",
    "  - `class_name` — the class or grade the student belongs to  \n",
    "\n",
    "- **Methods:**\n",
    "  - A method to **display student information** in a readable format (e.g., full name, age, and class).\n"
   ]
  },
  {
   "cell_type": "code",
   "execution_count": 3,
   "id": "2938b700",
   "metadata": {},
   "outputs": [],
   "source": [
    "class Student:\n",
    "    # YOUR CODE HERE\n",
    "    def __init__(self, full_name,age,class_name):\n",
    "        self.fullname = full_name\n",
    "        self.age = age\n",
    "        self.classname = class_name\n",
    "    def display_info(self):\n",
    "        print(f\"full name: {self.fullname}\")\n",
    "        print(f\"age: {self.age}\")\n",
    "        print(f\"class name: {self.classname}\")\n",
    "    pass"
   ]
  },
  {
   "cell_type": "code",
   "execution_count": 4,
   "id": "dccfe022",
   "metadata": {},
   "outputs": [
    {
     "name": "stdout",
     "output_type": "stream",
     "text": [
      "full name: DO MINH THANH\n",
      "age: 19\n",
      "class name: DSEB66B\n"
     ]
    }
   ],
   "source": [
    "student1 = Student(\"DO MINH THANH\", \"19\", \"DSEB66B\")\n",
    "student1.display_info()"
   ]
  },
  {
   "cell_type": "markdown",
   "id": "b48caa4e",
   "metadata": {},
   "source": [
    "### **Exercise 3:** Student Grade Management\n",
    "\n",
    "Create a class **`StudentGrade`** with the following specifications:\n",
    "\n",
    "- **Attributes:**\n",
    "  - `course_name` — the name of the course  \n",
    "  - `grade` — the grade of the student in that course  \n",
    "\n",
    "- **Methods:**\n",
    "  - A method to **calculate the average grade** for a list of students.  \n",
    "  - A method to **find the highest grade** among students.  \n",
    "  - A method to **find the lowest grade** among students.\n"
   ]
  },
  {
   "cell_type": "code",
   "execution_count": 5,
   "id": "b1a04075",
   "metadata": {},
   "outputs": [],
   "source": [
    "class StudentGrade:\n",
    "    # YOUR CODE HERE\n",
    "    def __init__(self, course_name, grade):\n",
    "        self.coursename = course_name\n",
    "        self.grade = grade\n",
    "    def calculate_average(students):\n",
    "        if not students:\n",
    "            return 0\n",
    "        total = sum(student.grade for student in students)\n",
    "        return total / len(students)\n",
    "    def find_highest_grade(students):\n",
    "        if not students:\n",
    "            return None\n",
    "        return max(students, key=lambda student: student.grade)\n",
    "    def find_lowest_grade(students):\n",
    "        if not students:\n",
    "            return None\n",
    "        return min(students, key=lambda student: student.grade)\n",
    "        pass\n",
    "    pass"
   ]
  },
  {
   "cell_type": "code",
   "execution_count": 13,
   "id": "6511102b",
   "metadata": {},
   "outputs": [
    {
     "name": "stdout",
     "output_type": "stream",
     "text": [
      "Average grade: 84.33333333333333\n",
      "Highest grade: 90\n",
      "Lowest grade: 78\n"
     ]
    }
   ],
   "source": [
    "students = [\n",
    "    StudentGrade(\"Math\", 85),\n",
    "    StudentGrade(\"Physics\", 90),\n",
    "    StudentGrade(\"Chemistry\", 78)\n",
    "]\n",
    "print(\"Average grade:\", StudentGrade.calculate_average(students))\n",
    "print(\"Highest grade:\", StudentGrade.find_highest_grade(students).grade)\n",
    "print(\"Lowest grade:\", StudentGrade.find_lowest_grade(students).grade)"
   ]
  },
  {
   "cell_type": "markdown",
   "id": "910f3991",
   "metadata": {},
   "source": [
    "### **Exercise 4:** Order Management\n",
    "\n",
    "Create a class **`Order`** with the following specifications:\n",
    "\n",
    "- **Attributes:**\n",
    "  - `order_id` — unique identifier of the order  \n",
    "  - `created_date` — the date the order was created  \n",
    "  - `product` — the name of the product  \n",
    "  - `quantity` — the number of products ordered  \n",
    "  - `unit_price` — the price of a single product  \n",
    "\n",
    "- **Methods:**\n",
    "  - A method to **calculate the total order amount** (`quantity * unit_price`).  \n",
    "  - A method to **display order information** in a readable format.\n"
   ]
  },
  {
   "cell_type": "code",
   "execution_count": 21,
   "id": "7c6055ff",
   "metadata": {},
   "outputs": [
    {
     "name": "stdout",
     "output_type": "stream",
     "text": [
      "Order ID: O001\n",
      "Date Created: 2025-10-22\n",
      "Product: Laptop\n",
      "Quantity: 2\n",
      "Unit Price: $1500.00\n",
      "Total Amount: $3000.00\n",
      "----------------------------------------\n",
      "Order ID: O002\n",
      "Date Created: 2025-10-23\n",
      "Product: Mouse\n",
      "Quantity: 5\n",
      "Unit Price: $20.00\n",
      "Total Amount: $100.00\n",
      "----------------------------------------\n"
     ]
    }
   ],
   "source": [
    "class Order:\n",
    "    # YOUR CODE HERE\n",
    "    def __init__(self, order_id, created_date, product, quantity, unit_price):\n",
    "        self.order_id = order_id\n",
    "        self.created_date = created_date\n",
    "        self.product = product\n",
    "        self.quantity = quantity\n",
    "        self.unit_price = unit_price\n",
    "\n",
    "    def calculate_total(self):\n",
    "        \"\"\"Calculate the total order amount\"\"\"\n",
    "        return self.quantity * self.unit_price\n",
    "\n",
    "    def display_info(self):\n",
    "        \"\"\"Display order information in a readable format\"\"\"\n",
    "        print(f\"Order ID: {self.order_id}\")\n",
    "        print(f\"Date Created: {self.created_date}\")\n",
    "        print(f\"Product: {self.product}\")\n",
    "        print(f\"Quantity: {self.quantity}\")\n",
    "        print(f\"Unit Price: ${self.unit_price:.2f}\")\n",
    "        print(f\"Total Amount: ${self.calculate_total():.2f}\")\n",
    "        print(\"-\" * 40)\n",
    "\n",
    "order1 = Order(\"O001\", \"2025-10-22\", \"Laptop\", 2, 1500.00)\n",
    "order2 = Order(\"O002\", \"2025-10-23\", \"Mouse\", 5, 20.00)\n",
    "\n",
    "order1.display_info()\n",
    "order2.display_info()"
   ]
  },
  {
   "cell_type": "markdown",
   "id": "b3defad3",
   "metadata": {},
   "source": [
    "### **Exercise 5:** Address Book Management\n",
    "\n",
    "Create a class **`AddressBook`** with the following specifications:\n",
    "\n",
    "- **Attributes:**\n",
    "  - `full_name` — the full name of the contact  \n",
    "  - `phone_number` — the phone number of the contact  \n",
    "\n",
    "- **Methods:**\n",
    "  - A method to **add a new contact**.  \n",
    "  - A method to **edit an existing contact’s information**.  \n",
    "  - A method to **delete a contact**.  \n",
    "  - A method to **display all contacts** in a readable format."
   ]
  },
  {
   "cell_type": "code",
   "execution_count": 58,
   "id": "8f0e7f52",
   "metadata": {},
   "outputs": [],
   "source": [
    "class AddressBook:\n",
    "    # YOUR CODE HERE\n",
    "    def __init__(self):\n",
    "        self.contacts = []\n",
    "    def add_contact(self, full_name, phone_number):\n",
    "        self.contacts.append({full_name, phone_number})\n",
    "        print(f\"contact {full_name} has been added successfully\")\n",
    "        \n",
    "    def edit_contact(self, full_name, new_name=None, new_phone=None):\n",
    "        for contact in self.contacts:\n",
    "            if contact[\"full_name\"] == full_name:\n",
    "                if new_name:\n",
    "                    contact[\"full_name\"] = new_name\n",
    "                if new_phone:\n",
    "                    contact[\"phone_number\"] = new_phone\n",
    "                print(f\" Contact '{full_name}' updated successfully.\")\n",
    "                return\n",
    "        print(f\" Contact '{full_name}' not found.\")\n",
    "\n",
    "    def delete_contact(self, full_name):\n",
    "        for contact in self.contacts:\n",
    "            if contact[\"full_name\"] == full_name:\n",
    "                self.contacts.remove(contact)\n",
    "                print(f\" Contact '{full_name}' deleted successfully.\")\n",
    "                return\n",
    "        print(f\" Contact '{full_name}' not found.\")\n",
    "\n",
    "    def display_contacts(self):\n",
    "        if not self.contacts:\n",
    "            print(\" No contacts found.\")\n",
    "        else:\n",
    "            print(\"\\n Address Book Contacts:\")\n",
    "            print(\"-\" * 35)\n",
    "            for contact in self.contacts:\n",
    "                print(f\"Name: {contact['full_name']}\")\n",
    "                print(f\"Phone: {contact['phone_number']}\")\n",
    "                print(\"-\" * 35)\n",
    " \n",
    "    pass"
   ]
  },
  {
   "cell_type": "code",
   "execution_count": 60,
   "id": "1585348d",
   "metadata": {},
   "outputs": [
    {
     "name": "stdout",
     "output_type": "stream",
     "text": [
      "contact Alice Johnson has been added successfully\n",
      "contact Bob Smith has been added successfully\n",
      "\n",
      " Address Book Contacts:\n",
      "-----------------------------------\n"
     ]
    },
    {
     "ename": "TypeError",
     "evalue": "'set' object is not subscriptable",
     "output_type": "error",
     "traceback": [
      "\u001b[31m---------------------------------------------------------------------------\u001b[39m",
      "\u001b[31mTypeError\u001b[39m                                 Traceback (most recent call last)",
      "\u001b[36mCell\u001b[39m\u001b[36m \u001b[39m\u001b[32mIn[60]\u001b[39m\u001b[32m, line 4\u001b[39m\n\u001b[32m      2\u001b[39m book.add_contact(\u001b[33m\"\u001b[39m\u001b[33mAlice Johnson\u001b[39m\u001b[33m\"\u001b[39m, \u001b[33m\"\u001b[39m\u001b[33m123-456-7890\u001b[39m\u001b[33m\"\u001b[39m)\n\u001b[32m      3\u001b[39m book.add_contact(\u001b[33m\"\u001b[39m\u001b[33mBob Smith\u001b[39m\u001b[33m\"\u001b[39m, \u001b[33m\"\u001b[39m\u001b[33m987-654-3210\u001b[39m\u001b[33m\"\u001b[39m)\n\u001b[32m----> \u001b[39m\u001b[32m4\u001b[39m \u001b[43mbook\u001b[49m\u001b[43m.\u001b[49m\u001b[43mdisplay_contacts\u001b[49m\u001b[43m(\u001b[49m\u001b[43m)\u001b[49m\n\u001b[32m      6\u001b[39m book.edit_contact(\u001b[33m\"\u001b[39m\u001b[33mAlice Johnson\u001b[39m\u001b[33m\"\u001b[39m, new_phone=\u001b[33m\"\u001b[39m\u001b[33m111-222-3333\u001b[39m\u001b[33m\"\u001b[39m)\n\u001b[32m      7\u001b[39m book.display_contacts()\n",
      "\u001b[36mCell\u001b[39m\u001b[36m \u001b[39m\u001b[32mIn[58]\u001b[39m\u001b[32m, line 35\u001b[39m, in \u001b[36mAddressBook.display_contacts\u001b[39m\u001b[34m(self)\u001b[39m\n\u001b[32m     33\u001b[39m \u001b[38;5;28mprint\u001b[39m(\u001b[33m\"\u001b[39m\u001b[33m-\u001b[39m\u001b[33m\"\u001b[39m * \u001b[32m35\u001b[39m)\n\u001b[32m     34\u001b[39m \u001b[38;5;28;01mfor\u001b[39;00m contact \u001b[38;5;129;01min\u001b[39;00m \u001b[38;5;28mself\u001b[39m.contacts:\n\u001b[32m---> \u001b[39m\u001b[32m35\u001b[39m     \u001b[38;5;28mprint\u001b[39m(\u001b[33mf\u001b[39m\u001b[33m\"\u001b[39m\u001b[33mName: \u001b[39m\u001b[38;5;132;01m{\u001b[39;00m\u001b[43mcontact\u001b[49m\u001b[43m[\u001b[49m\u001b[33;43m'\u001b[39;49m\u001b[33;43mfull_name\u001b[39;49m\u001b[33;43m'\u001b[39;49m\u001b[43m]\u001b[49m\u001b[38;5;132;01m}\u001b[39;00m\u001b[33m\"\u001b[39m)\n\u001b[32m     36\u001b[39m     \u001b[38;5;28mprint\u001b[39m(\u001b[33mf\u001b[39m\u001b[33m\"\u001b[39m\u001b[33mPhone: \u001b[39m\u001b[38;5;132;01m{\u001b[39;00mcontact[\u001b[33m'\u001b[39m\u001b[33mphone_number\u001b[39m\u001b[33m'\u001b[39m]\u001b[38;5;132;01m}\u001b[39;00m\u001b[33m\"\u001b[39m)\n\u001b[32m     37\u001b[39m     \u001b[38;5;28mprint\u001b[39m(\u001b[33m\"\u001b[39m\u001b[33m-\u001b[39m\u001b[33m\"\u001b[39m * \u001b[32m35\u001b[39m)\n",
      "\u001b[31mTypeError\u001b[39m: 'set' object is not subscriptable"
     ]
    }
   ],
   "source": [
    "book = AddressBook()\n",
    "book.add_contact(\"Alice Johnson\", \"123-456-7890\")\n",
    "book.add_contact(\"Bob Smith\", \"987-654-3210\")\n",
    "book.display_contacts()\n",
    "\n",
    "book.edit_contact(\"Alice Johnson\", new_phone=\"111-222-3333\")\n",
    "book.display_contacts()\n",
    "\n",
    "book.delete_contact(\"Bob Smith\")\n",
    "book.display_contacts()"
   ]
  },
  {
   "cell_type": "markdown",
   "id": "d85fef54",
   "metadata": {},
   "source": [
    "### **Exercise 6:** Bank Account Management\n",
    "\n",
    "Create a class **`BankAccount`** with the following specifications:\n",
    "\n",
    "- **Attributes:**\n",
    "  - `account_number` — the unique account number  \n",
    "  - `account_holder` — the name of the account holder  \n",
    "  - `balance` — the current balance in the account  \n",
    "\n",
    "- **Methods:**\n",
    "  - A method to **deposit money** into the account.  \n",
    "  - A method to **withdraw money** from the account.  \n",
    "  - A method to **check the account balance**."
   ]
  },
  {
   "cell_type": "code",
   "execution_count": null,
   "id": "c7e93de9",
   "metadata": {},
   "outputs": [],
   "source": [
    "class BankAccount:\n",
    "    # YOUR CODE HERE\n",
    "    def __init__(self, account_number, account_holder, balance=0.0):\n",
    "        self.account_number = account_number\n",
    "        self.account_holder = account_holder\n",
    "        self.balance = balance\n",
    "\n",
    "    def deposit(self, amount):\n",
    "        if amount > 0:\n",
    "            self.balance += amount\n",
    "            print(f\"Deposited ${amount:.2f} successfully.\")\n",
    "        else:\n",
    "            print(\"Deposit amount must be greater than zero.\")\n",
    "\n",
    "    def withdraw(self, amount):\n",
    "        if amount <= 0:\n",
    "            print(\"Withdrawal amount must be greater than zero.\")\n",
    "        elif amount > self.balance:\n",
    "            print(\"Insufficient funds.\")\n",
    "        else:\n",
    "            self.balance -= amount\n",
    "            print(f\"Withdrew ${amount:.2f} successfully.\")\n",
    "\n",
    "    def check_balance(self):\n",
    "        print(f\"Account Holder: {self.account_holder}\")\n",
    "        print(f\"Account Number: {self.account_number}\")\n",
    "        print(f\"Current Balance: ${self.balance:.2f}\")\n",
    "        print(\"-\" * 40)\n",
    "    pass"
   ]
  },
  {
   "cell_type": "code",
   "execution_count": null,
   "id": "9c4321af",
   "metadata": {},
   "outputs": [
    {
     "name": "stdout",
     "output_type": "stream",
     "text": [
      "Account Holder: John Doe\n",
      "Account Number: 123\n",
      "Current Balance: $500.00\n",
      "----------------------------------------\n",
      "Deposited $200.00 successfully.\n",
      "Withdrew $100.00 successfully.\n",
      "Insufficient funds.\n",
      "Account Holder: John Doe\n",
      "Account Number: 123\n",
      "Current Balance: $600.00\n",
      "----------------------------------------\n"
     ]
    }
   ],
   "source": [
    "account1 = BankAccount(\"123456\", \"John Doe\", 500.00)\n",
    "account1.check_balance()\n",
    "account1.deposit(200)\n",
    "account1.withdraw(100)\n",
    "account1.withdraw(700)\n",
    "account1.check_balance()"
   ]
  },
  {
   "cell_type": "markdown",
   "id": "194c08e5",
   "metadata": {},
   "source": [
    "### **Exercise 7:** Graphics Management\n",
    "\n",
    "Create a class **`Graphics`** with the following specifications:\n",
    "\n",
    "- **Attributes:**\n",
    "  - `length` — the length of the shape  \n",
    "  - `width` — the width of the shape  \n",
    "\n",
    "- **Methods:**\n",
    "  - A method to **calculate the area** of the shape.  \n",
    "  - A method to **calculate the perimeter** of the shape.  \n",
    "  - A method to **draw the shape** using the `*` character.\n"
   ]
  },
  {
   "cell_type": "code",
   "execution_count": null,
   "id": "0b80aacf",
   "metadata": {},
   "outputs": [],
   "source": [
    "class Graphics:\n",
    "    # YOUR CODE HERE\n",
    "    \n",
    "    pass"
   ]
  },
  {
   "cell_type": "markdown",
   "id": "b8992b87",
   "metadata": {},
   "source": [
    "### **Exercise 8:** Rectangle Class\n",
    "\n",
    "Create a class **`Rectangle`** representing a rectangle with the following specifications:\n",
    "\n",
    "- **Attributes:**\n",
    "  - `width` — the width of the rectangle  \n",
    "  - `height` — the height of the rectangle  \n",
    "\n",
    "- **Special Methods:**\n",
    "  - `__init__(self, width, height)`: Initialize the rectangle object with the given width and height.  \n",
    "  - `__str__(self)`: Return a string representation of the rectangle in the format `\"Rectangle(width, height)\"`.  \n",
    "  - `__eq__(self, other)`: Compare two rectangles based on their **area**. Return `True` if their areas are equal, otherwise `False`.  \n",
    "  - `__lt__(self, other)`: Compare two rectangles based on their **area**. Return `True` if the current rectangle’s area is **less than** the other’s, otherwise `False`.  \n",
    "  - `__add__(self, other)`: Calculate the **total area** of two rectangles and return a **new rectangle** with a width equal to the sum of the widths and a height equal to the sum of the heights.\n"
   ]
  },
  {
   "cell_type": "code",
   "execution_count": null,
   "id": "72720919",
   "metadata": {},
   "outputs": [],
   "source": [
    "def Rectangle():\n",
    "    # YOUR CODE HERE\n",
    "    pass"
   ]
  },
  {
   "cell_type": "markdown",
   "id": "3a3c9c56",
   "metadata": {},
   "source": [
    "### **Exercise 9:** Email Class\n",
    "\n",
    "Create a system that simulates **basic email sending and receiving** using two classes: **`User`** and **`Email`**.\n",
    "\n",
    "#### **Class 1: User**\n",
    "- **Attributes:**\n",
    "  - `username` — the username of the user (string)  \n",
    "  - `password` — the password of the user (string)  \n",
    "  - `email` — the email account associated with the user (an instance of the `Email` class)\n",
    "\n",
    "- **Methods:**\n",
    "  - `register_user(username, password, email_address)` — register a new user by creating an `Email` object and associating it with the `User` instance.\n",
    "\n",
    "#### **Class 2: Email**\n",
    "- **Attributes:**\n",
    "  - `address` — the email address (string)  \n",
    "  - `inbox` — a list of received emails (initially empty)\n",
    "\n",
    "- **Methods:**\n",
    "  - `send_email(self, message, recipient)` — send an email message to another user.  \n",
    "    - Takes a **message (string)** and a **recipient (User instance)**.  \n",
    "    - Adds the message to the recipient’s email inbox.  \n",
    "  - `view_inbox(self)` — display all received messages in the inbox."
   ]
  },
  {
   "cell_type": "code",
   "execution_count": null,
   "id": "433dcb47",
   "metadata": {},
   "outputs": [],
   "source": [
    "def EmailSystem():\n",
    "    # YOUR CODE HERE\n",
    "    pass"
   ]
  }
 ],
 "metadata": {
  "kernelspec": {
   "display_name": "Python 3",
   "language": "python",
   "name": "python3"
  },
  "language_info": {
   "codemirror_mode": {
    "name": "ipython",
    "version": 3
   },
   "file_extension": ".py",
   "mimetype": "text/x-python",
   "name": "python",
   "nbconvert_exporter": "python",
   "pygments_lexer": "ipython3",
   "version": "3.11.9"
  }
 },
 "nbformat": 4,
 "nbformat_minor": 5
}
